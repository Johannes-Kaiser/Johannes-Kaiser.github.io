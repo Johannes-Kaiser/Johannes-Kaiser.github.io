{
 "cells": [
  {
   "cell_type": "code",
   "execution_count": 10,
   "id": "e98fde6b",
   "metadata": {},
   "outputs": [
    {
     "data": {
      "application/vnd.jupyter.widget-view+json": {
       "model_id": "ca5cb7e2d4af43fd984ac236efb33beb",
       "version_major": 2,
       "version_minor": 0
      },
      "text/plain": [
       "interactive(children=(FloatSlider(value=1.0, description='mu', max=3.0, min=-3.0), FloatSlider(value=0.0, desc…"
      ]
     },
     "metadata": {},
     "output_type": "display_data"
    },
    {
     "data": {
      "text/plain": [
       "<function __main__.plot_gaussians_and_cdf(mu=1.0, epsilon=0.0)>"
      ]
     },
     "execution_count": 10,
     "metadata": {},
     "output_type": "execute_result"
    }
   ],
   "source": [
    "import numpy as np\n",
    "import matplotlib.pyplot as plt\n",
    "from scipy.stats import norm\n",
    "from ipywidgets import interact, FloatSlider\n",
    "\n",
    "def plot_gaussians_and_cdf(mu=1.0, epsilon=0.0):\n",
    "    x = np.linspace(-5, 5, 500)\n",
    "    # Regular Gaussian\n",
    "    y1 = norm.pdf(x, 0, 1)\n",
    "    # Shifted Gaussian\n",
    "    y2 = norm.pdf(x, mu, 1)\n",
    "    \n",
    "    # CDF areas\n",
    "    cdf1 = norm.cdf(-epsilon/mu + mu/2)\n",
    "    cdf2 = norm.cdf(-epsilon/mu - mu/2)\n",
    "    y_val = cdf1 - np.exp(epsilon) * cdf2\n",
    "\n",
    "    fig, axs = plt.subplots(1, 2, figsize=(12, 5))\n",
    "\n",
    "    # Plot PDFs\n",
    "    axs[0].plot(x, y1, label='N(0,1)')\n",
    "    axs[0].plot(x, y2, label=f'N({mu},1)')\n",
    "    axs[0].set_title('PDFs')\n",
    "    axs[0].legend()\n",
    "    # Find the x location where y1 - exp(epsilon) * y2 = 0 (i.e., y1 = exp(epsilon) * y2)\n",
    "    # This is equivalent to finding x such that norm.pdf(x, 0, 1) = exp(epsilon) * norm.pdf(x, mu, 1)\n",
    "    # Take log on both sides:\n",
    "    # log(norm.pdf(x, 0, 1)) = epsilon + log(norm.pdf(x, mu, 1))\n",
    "    # Use the formula for log pdf:\n",
    "    # -0.5 * x^2 = epsilon - 0.5 * (x - mu)^2\n",
    "    # Solve for x:\n",
    "    # -0.5 * x^2 = epsilon - 0.5 * (x^2 - 2*x*mu + mu^2)\n",
    "    # -0.5 * x^2 = epsilon - 0.5 * x^2 + x*mu - 0.5*mu^2\n",
    "    # 0 = epsilon + x*mu - 0.5*mu^2\n",
    "    # x = (0.5*mu^2 - epsilon) / mu  (if mu != 0)\n",
    "    x_cross = None\n",
    "    if mu != 0:\n",
    "        x_cross = (0.5 * mu**2 - epsilon) / mu\n",
    "        axs[0].axvline(x_cross, color='gray', linestyle='--', label='offset crossing')\n",
    "    axs[0].legend()\n",
    "\n",
    "    # Visualize CDF areas\n",
    "    axs[1].set_title('CDF Areas and y(epsilon)')\n",
    "    # Plot horizontal lines for CDF values\n",
    "    # axs[1].axhline(y=cdf1, color='blue', linestyle='--', label=r'cdf($-\\frac{\\epsilon-\\mu}{2}$)')\n",
    "    # axs[1].axhline(y=cdf2, color='red', linestyle='--', label=r'cdf($-\\frac{\\epsilon+\\mu}{2}$)')\n",
    "    # Plot y(epsilon) as a function of epsilon\n",
    "    eps_range = np.linspace(-5, 5, 200)\n",
    "    axs[1].plot(eps_range, norm.cdf(-eps_range/mu + mu/2), color='blue', linestyle='--', label=r'cdf($-\\frac{\\epsilon-\\mu}{2}$)')\n",
    "    axs[1].plot(eps_range, norm.cdf(-eps_range/mu - mu/2), color='red', linestyle='--', label=r'cdf($-\\frac{\\epsilon+\\mu}{2}$)')\n",
    "    cdf1_curve = norm.cdf(-eps_range/mu + mu/2)\n",
    "    cdf2_curve = norm.cdf(-eps_range/mu - mu/2)\n",
    "    y_curve = cdf1_curve - np.exp(eps_range) * cdf2_curve\n",
    "    axs[1].plot(eps_range, y_curve, color='purple', label='y(epsilon) curve')\n",
    "    axs[1].scatter([epsilon], [y_val], color='green', label='y(epsilon)')\n",
    "    axs[1].set_xlim(-5, 5)\n",
    "    axs[1].set_ylim(-1, 1)\n",
    "    axs[1].legend()\n",
    "    axs[1].set_xlabel('epsilon')\n",
    "    axs[1].set_ylabel('Value')\n",
    "\n",
    "    plt.tight_layout()\n",
    "    plt.show()\n",
    "    print(f\"cdf(-(epsilon-mu)/2) = {cdf1:.4f}\")\n",
    "    print(f\"cdf(-(epsilon+mu)/2) = {cdf2:.4f}\")\n",
    "    print(f\"y(epsilon) = {y_val:.4f}\")\n",
    "\n",
    "interact(\n",
    "    plot_gaussians_and_cdf,\n",
    "    mu=FloatSlider(value=1.0, min=-3.0, max=3.0, step=0.1, description='mu'),\n",
    "    epsilon=FloatSlider(value=0.0, min=-3.0, max=3.0, step=0.1, description='epsilon')\n",
    ")\n",
    "# The interact widget will appear below this cell when you run it.\n",
    "# If you only see the function output, make sure you are running this notebook in an environment that supports ipywidgets (like Jupyter Notebook or JupyterLab with the ipywidgets extension enabled).\n",
    "# No additional code is needed; just run this cell and use the sliders that appear."
   ]
  },
  {
   "cell_type": "code",
   "execution_count": null,
   "id": "b07b7771",
   "metadata": {},
   "outputs": [],
   "source": []
  },
  {
   "cell_type": "code",
   "execution_count": null,
   "id": "e066de06",
   "metadata": {},
   "outputs": [],
   "source": []
  }
 ],
 "metadata": {
  "kernelspec": {
   "display_name": "indiv_privacy",
   "language": "python",
   "name": "python3"
  },
  "language_info": {
   "codemirror_mode": {
    "name": "ipython",
    "version": 3
   },
   "file_extension": ".py",
   "mimetype": "text/x-python",
   "name": "python",
   "nbconvert_exporter": "python",
   "pygments_lexer": "ipython3",
   "version": "3.10.12"
  }
 },
 "nbformat": 4,
 "nbformat_minor": 5
}
